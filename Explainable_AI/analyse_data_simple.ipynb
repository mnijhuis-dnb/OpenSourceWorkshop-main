{
  "nbformat": 4,
  "nbformat_minor": 0,
  "metadata": {
    "colab": {
      "name": "CaseStudy.ipynb",
      "provenance": [],
      "collapsed_sections": [],
      "include_colab_link": true
    },
    "kernelspec": {
      "name": "python3",
      "display_name": "Python 3"
    }
  },
  "cells": [
    {
      "cell_type": "markdown",
      "metadata": {
        "id": "view-in-github",
        "colab_type": "text"
      },
      "source": [
        "<a href=\"https://colab.research.google.com/github/mnijhuis-dnb/OpenSourceWorkshop-main/blob/master/Explainable_AI/analyse_data_simple.ipynb\" target=\"_parent\"><img src=\"https://colab.research.google.com/assets/colab-badge.svg\" alt=\"Open In Colab\"/></a>"
      ]
    },
    {
      "cell_type": "code",
      "metadata": {
        "id": "ergY4Tzdz5eO"
      },
      "source": [
        "!gdown 1EE5KO2VXEbxwZ2P0k-PP03NsNRL4PBPJ\n",
        "!gdown 1atPsRYwb-mWq585wlz8iGtw5uaKck4N8"
      ],
      "execution_count": null,
      "outputs": []
    },
    {
      "cell_type": "code",
      "source": [
        "!pip install eli5\n",
        "!pip install shap\n",
        "!pip install pdpbox"
      ],
      "metadata": {
        "id": "8yJaZBngSsGW"
      },
      "execution_count": null,
      "outputs": []
    },
    {
      "cell_type": "code",
      "metadata": {
        "id": "pU0KM0cD1po9"
      },
      "source": [
        "import pandas as pd\n",
        "import numpy as np\n",
        "from sklearn.ensemble import RandomForestClassifier"
      ],
      "execution_count": null,
      "outputs": []
    },
    {
      "cell_type": "code",
      "metadata": {
        "id": "kAkgyfjrZuRM"
      },
      "source": [
        "df = pd.read_csv('/content/mortage_data.csv', index_col=0)"
      ],
      "execution_count": null,
      "outputs": []
    },
    {
      "cell_type": "code",
      "metadata": {
        "id": "zAdUJB1He6tx"
      },
      "source": [
        "float_columns = ['Original Interest Rate', 'Original UPB', \n",
        "    'Origination Date', 'Remaining Months To Maturity Original', \n",
        "    'Original Loan to Value Ratio (LTV)', 'Original Combined Loan to Value Ratio (CLTV)', 'Number of Borrowers', \n",
        "    'Debt-To-Income (DTI)', 'Borrower Credit Score at Origination', 'Co-Borrower Credit Score at Origination', \n",
        "    'Zip Code Short', 'Total Principal Current Original', 'Borrower Age']"
      ],
      "execution_count": null,
      "outputs": []
    },
    {
      "cell_type": "code",
      "source": [
        "one_hot_columns = ['Channel', 'First Time Home Buyer Indicator', 'Loan Purpose', \n",
        "    'Property Type', 'Occupancy Status', 'Property State', 'Prepayment Penalty Indicator', \n",
        "    'Borrower Education Level', 'Borrower Employment', 'Relocation Mortgage Indicator', 'High Balance Loan Indicator']"
      ],
      "metadata": {
        "id": "Ha3170itko70"
      },
      "execution_count": null,
      "outputs": []
    },
    {
      "cell_type": "code",
      "source": [
        "keep_columns = ['Channel', 'Original Interest Rate', \n",
        "    'Original UPB', 'Origination Date', \n",
        "    'Remaining Months To Maturity Original', 'Original Loan to Value Ratio (LTV)', \n",
        "    'Original Combined Loan to Value Ratio (CLTV)', 'Number of Borrowers', \n",
        "    'Debt-To-Income (DTI)', 'Borrower Credit Score at Origination', 'Co-Borrower Credit Score at Origination', \n",
        "    'First Time Home Buyer Indicator', 'Loan Purpose', 'Property Type', 'Occupancy Status', 'Property State', \n",
        "    'Zip Code Short', 'Prepayment Penalty Indicator', \n",
        "    'Total Principal Current Original', 'Relocation Mortgage Indicator', \n",
        "    'High Balance Loan Indicator', 'Borrower Age', 'Borrower Education Level', \n",
        "    'Borrower Employment']"
      ],
      "metadata": {
        "id": "REkHHsFkrjki"
      },
      "execution_count": null,
      "outputs": []
    },
    {
      "cell_type": "code",
      "source": [
        "df.loc[df['Prepayment Penalty Indicator'].isna(),'Prepayment Penalty Indicator'] = 'nan'\n",
        "df.loc[df['Interest Only Loan Indicator Original'].isna(),'Interest Only Loan Indicator Original'] = 'nan'\n",
        "df.loc[df['Alternative Delinquency Resolution Original']==7.0,'Alternative Delinquency Resolution Original'] = '7'\n"
      ],
      "metadata": {
        "id": "Z2LBzrVlbANX"
      },
      "execution_count": null,
      "outputs": []
    },
    {
      "cell_type": "code",
      "source": [
        "df_x = df[keep_columns].copy()\n",
        "df_y = (df['Total Writeoff'].fillna(0)>0).astype(int)"
      ],
      "metadata": {
        "id": "47ofI1dLrlCZ"
      },
      "execution_count": null,
      "outputs": []
    },
    {
      "cell_type": "code",
      "source": [
        "for col in float_columns:\n",
        "    df_x[col] = pd.to_numeric(df_x[col],errors='coerce',downcast='integer').fillna(-1)"
      ],
      "metadata": {
        "id": "fEpq2PNXrmSs"
      },
      "execution_count": null,
      "outputs": []
    },
    {
      "cell_type": "code",
      "source": [
        "for col in one_hot_columns:\n",
        "    df_x = pd.concat([df_x.drop(columns=[col]), pd.get_dummies(df_x[col], prefix=col + ' ')],axis=1)"
      ],
      "metadata": {
        "id": "8dELpnMVrnlS"
      },
      "execution_count": null,
      "outputs": []
    },
    {
      "cell_type": "code",
      "source": [
        "def downsample(data_x, data_y, num):\n",
        "\n",
        "    ind = np.r_[:len(data_y)][data_y>0]\n",
        "    idx = np.r_[:len(data_y)][data_y<=0]\n",
        "    indexes_a = np.random.choice(ind, num)\n",
        "    indexes_b = np.random.choice(idx, num)\n",
        "    data_x = np.vstack((data_x[indexes_a], data_x[indexes_b])) \n",
        "    data_y = np.hstack((data_y[indexes_a], data_y[indexes_b]))\n",
        "\n",
        "    return data_x, data_y\n",
        "\n",
        "\n",
        "def sample(data_x, data_y, num):\n",
        "\n",
        "    indexes = np.zeros(len(data_x), dtype=bool)\n",
        "    indexes[np.random.choice(np.r_[:len(data_x)], num)] = True\n",
        "    train_x, train_y = downsample(data_x[indexes], data_y[indexes], num)\n",
        "    test_x = data_x[np.bitwise_not(indexes)]\n",
        "    test_y = data_y[np.bitwise_not(indexes)]\n",
        "\n",
        "    return train_x, train_y, test_x, test_y"
      ],
      "metadata": {
        "id": "b0UMgiz1VApT"
      },
      "execution_count": null,
      "outputs": []
    },
    {
      "cell_type": "code",
      "source": [
        "train_x, train_y, test_x, test_y = sample(df_x.values, df_y.values, 300000)\n",
        "rfc = RandomForestClassifier(n_estimators=50, min_samples_split=100, max_depth=10, bootstrap=True, max_samples=0.05)"
      ],
      "metadata": {
        "id": "l4_CYcGfVS2D"
      },
      "execution_count": null,
      "outputs": []
    },
    {
      "cell_type": "code",
      "source": [
        "rfc.fit(train_x, train_y)"
      ],
      "metadata": {
        "id": "UVxgvnt-VaHo"
      },
      "execution_count": null,
      "outputs": []
    },
    {
      "cell_type": "code",
      "source": [
        "rfc.predict(test_x)"
      ],
      "metadata": {
        "id": "-ohpFB7JV1hj"
      },
      "execution_count": null,
      "outputs": []
    },
    {
      "cell_type": "code",
      "source": [
        ""
      ],
      "metadata": {
        "id": "7imqNSnEdkU7"
      },
      "execution_count": null,
      "outputs": []
    }
  ]
}