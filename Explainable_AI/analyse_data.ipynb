{
  "nbformat": 4,
  "nbformat_minor": 0,
  "metadata": {
    "colab": {
      "name": "CaseStudy.ipynb",
      "provenance": [],
      "collapsed_sections": [],
      "include_colab_link": true
    },
    "kernelspec": {
      "name": "python3",
      "display_name": "Python 3"
    }
  },
  "cells": [
    {
      "cell_type": "markdown",
      "metadata": {
        "id": "view-in-github",
        "colab_type": "text"
      },
      "source": [
        "<a href=\"https://colab.research.google.com/github/mnijhuis-dnb/OpenSourceWorkshop-main/blob/master/Explainable_AI/analyse_data.ipynb\" target=\"_parent\"><img src=\"https://colab.research.google.com/assets/colab-badge.svg\" alt=\"Open In Colab\"/></a>"
      ]
    },
    {
      "cell_type": "code",
      "metadata": {
        "id": "ergY4Tzdz5eO"
      },
      "source": [
        "!gdown 1EE5KO2VXEbxwZ2P0k-PP03NsNRL4PBPJ\n",
        "!gdown 1atPsRYwb-mWq585wlz8iGtw5uaKck4N8"
      ],
      "execution_count": null,
      "outputs": []
    },
    {
      "cell_type": "code",
      "source": [
        "!pip install eli5\n",
        "!pip install shap\n",
        "!pip install pdpbox"
      ],
      "metadata": {
        "id": "8yJaZBngSsGW"
      },
      "execution_count": null,
      "outputs": []
    },
    {
      "cell_type": "code",
      "metadata": {
        "id": "pU0KM0cD1po9"
      },
      "source": [
        "import pandas as pd\n",
        "import numpy as np\n",
        "import torch\n",
        "from sklearn.preprocessing import StandardScaler"
      ],
      "execution_count": null,
      "outputs": []
    },
    {
      "cell_type": "code",
      "metadata": {
        "id": "kAkgyfjrZuRM"
      },
      "source": [
        "df = pd.read_csv('/content/mortage_data.csv', index_col=0)"
      ],
      "execution_count": null,
      "outputs": []
    },
    {
      "cell_type": "code",
      "metadata": {
        "id": "zAdUJB1He6tx"
      },
      "source": [
        "float_columns = ['Monthly Reporting Period Original', 'Original Interest Rate', 'Original UPB', \n",
        "    'Origination Date', 'First Payment Date', \n",
        "    'Remaining Months To Maturity Original', 'Maturity Date', \n",
        "    'Original Loan to Value Ratio (LTV)', 'Original Combined Loan to Value Ratio (CLTV)', 'Number of Borrowers', \n",
        "    'Debt-To-Income (DTI)', 'Borrower Credit Score at Origination', 'Co-Borrower Credit Score at Origination', \n",
        "    'Zip Code Short', 'Mortgage Insurance Percentage', \n",
        "    'Loan Payment History Original', 'Total Principal Current Original', 'Total Writeoff', 'Borrower Age']"
      ],
      "execution_count": null,
      "outputs": []
    },
    {
      "cell_type": "code",
      "source": [
        "one_hot_columns = ['Channel', 'Seller Name', 'Servicer Name', 'First Time Home Buyer Indicator', 'Loan Purpose', \n",
        "    'Property Type', 'Occupancy Status', 'Property State', 'Prepayment Penalty Indicator', \n",
        "    'Interest Only Loan Indicator Original', 'Current Loan Delinquency Status', 'Borrower Education Level', \n",
        "    'Borrower Employment', 'Relocation Mortgage Indicator', 'High Balance Loan Indicator', \n",
        "    'Borrower Assistance Plan Original', \n",
        "    'Alternative Delinquency Resolution Original']"
      ],
      "metadata": {
        "id": "Ha3170itko70"
      },
      "execution_count": null,
      "outputs": []
    },
    {
      "cell_type": "code",
      "source": [
        "keep_columns = ['Monthly Reporting Period Original', 'Channel', 'Seller Name', 'Servicer Name', 'Original Interest Rate', \n",
        "    'Original UPB', 'Origination Date', \n",
        "    'First Payment Date', 'Remaining Months To Maturity Original', \n",
        "    'Maturity Date', 'Original Loan to Value Ratio (LTV)', 'Original Combined Loan to Value Ratio (CLTV)', 'Number of Borrowers', \n",
        "    'Debt-To-Income (DTI)', 'Borrower Credit Score at Origination', 'Co-Borrower Credit Score at Origination', \n",
        "    'First Time Home Buyer Indicator', 'Loan Purpose', 'Property Type', 'Occupancy Status', 'Property State', \n",
        "    'Zip Code Short', 'Mortgage Insurance Percentage', \n",
        "    'Prepayment Penalty Indicator', 'Interest Only Loan Indicator Original', 'Current Loan Delinquency Status', \n",
        "    'Loan Payment History Original', 'Total Principal Current Original', 'Relocation Mortgage Indicator', \n",
        "    'High Balance Loan Indicator', 'Borrower Assistance Plan Original', \n",
        "    'Alternative Delinquency Resolution Original', 'Total Writeoff', 'Borrower Age', 'Borrower Education Level', \n",
        "    'Borrower Employment']"
      ],
      "metadata": {
        "id": "REkHHsFkrjki"
      },
      "execution_count": null,
      "outputs": []
    },
    {
      "cell_type": "code",
      "source": [
        "df.loc[df['Prepayment Penalty Indicator'].isna(),'Prepayment Penalty Indicator'] = 'nan'\n",
        "df.loc[df['Interest Only Loan Indicator Original'].isna(),'Interest Only Loan Indicator Original'] = 'nan'\n",
        "df.loc[df['Alternative Delinquency Resolution Original']==7.0,'Alternative Delinquency Resolution Original'] = '7'\n"
      ],
      "metadata": {
        "id": "Z2LBzrVlbANX"
      },
      "execution_count": null,
      "outputs": []
    },
    {
      "cell_type": "code",
      "source": [
        "df_x = df[keep_columns].copy()\n",
        "df_y = df['Total Writeoff'].fillna(0)"
      ],
      "metadata": {
        "id": "47ofI1dLrlCZ"
      },
      "execution_count": null,
      "outputs": []
    },
    {
      "cell_type": "code",
      "source": [
        "for col in float_columns:\n",
        "    df_x[col] = pd.to_numeric(df_x[col],errors='coerce',downcast='integer').fillna(-1)"
      ],
      "metadata": {
        "id": "fEpq2PNXrmSs"
      },
      "execution_count": null,
      "outputs": []
    },
    {
      "cell_type": "code",
      "source": [
        "for col in one_hot_columns:\n",
        "    df_x = pd.concat([df_x.drop(columns=[col]), pd.get_dummies(df_x[col], prefix=col + ' ')],axis=1)"
      ],
      "metadata": {
        "id": "8dELpnMVrnlS"
      },
      "execution_count": null,
      "outputs": []
    },
    {
      "cell_type": "code",
      "source": [
        "class DataProcessor(torch.utils.data.Dataset):\n",
        "    def __init__(self, X, y, scale_data=True):\n",
        "        if not torch.is_tensor(X) and not torch.is_tensor(y):\n",
        "            if scale_data:\n",
        "                X = StandardScaler().fit_transform(X)\n",
        "            self.X = torch.from_numpy(X.astype(float))\n",
        "            self.y = torch.from_numpy(y.astype(float))\n",
        "      \n",
        "    def __len__(self):\n",
        "        return len(self.X)\n",
        "\n",
        "    def __getitem__(self, i):\n",
        "        return self.X[i], self.y[i]"
      ],
      "metadata": {
        "id": "b0UMgiz1VApT"
      },
      "execution_count": null,
      "outputs": []
    },
    {
      "cell_type": "code",
      "source": [
        "class MLP(torch.nn.Module):\n",
        "\n",
        "  def __init__(self):\n",
        "    super().__init__()\n",
        "    self.layers = torch.nn.Sequential(\n",
        "      torch.nn.Linear(207, 100),\n",
        "      torch.nn.ReLU(),\n",
        "      torch.nn.Linear(100, 50),\n",
        "      torch.nn.ReLU(),\n",
        "      torch.nn.Linear(50, 10),\n",
        "      torch.nn.ReLU(),\n",
        "      torch.nn.Linear(10, 1)\n",
        "    )\n",
        "\n",
        "  def forward(self, x):\n",
        "    '''\n",
        "      Forward pass\n",
        "    '''\n",
        "    return self.layers(x)"
      ],
      "metadata": {
        "id": "l4_CYcGfVS2D"
      },
      "execution_count": null,
      "outputs": []
    },
    {
      "cell_type": "code",
      "source": [
        "dataset = DataProcessor(df_x.values, df_y.values, scale_data=True)\n",
        "model = torch.load('model.pkl')\n",
        "model = model.float()"
      ],
      "metadata": {
        "id": "UVxgvnt-VaHo"
      },
      "execution_count": null,
      "outputs": []
    },
    {
      "cell_type": "code",
      "source": [
        "model(dataset.X.float())"
      ],
      "metadata": {
        "id": "-ohpFB7JV1hj"
      },
      "execution_count": null,
      "outputs": []
    }
  ]
}