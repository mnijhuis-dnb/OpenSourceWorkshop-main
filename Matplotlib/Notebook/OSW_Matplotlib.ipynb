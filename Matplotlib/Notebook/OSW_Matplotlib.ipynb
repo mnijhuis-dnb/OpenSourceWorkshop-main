{
 "cells": [
  {
   "cell_type": "markdown",
   "metadata": {
    "id": "BvGZQ8N0Pwlb"
   },
   "source": [
    "# Data visualization in Python\n",
    "## with Matplotlib"
   ]
  },
  {
   "cell_type": "markdown",
   "metadata": {
    "id": "AQaqhWj8TJyu"
   },
   "source": [
    "Setting the notebook figure embedding\n",
    "\n",
    "*inline* prints the plots as png files in the notebook\n",
    "\n",
    "*notebook* allows for intervactive figures within the notebook "
   ]
  },
  {
   "cell_type": "code",
   "execution_count": null,
   "metadata": {
    "id": "h4ZGVc-yPwlO"
   },
   "outputs": [],
   "source": [
    "%matplotlib notebook"
   ]
  },
  {
   "cell_type": "code",
   "execution_count": null,
   "metadata": {
    "id": "zKhPS9iXPwlc"
   },
   "outputs": [],
   "source": [
    "import matplotlib.pyplot as plt\n",
    "import pandas as pd\n",
    "import numpy as np"
   ]
  },
  {
   "cell_type": "code",
   "execution_count": null,
   "metadata": {},
   "outputs": [],
   "source": [
    "import matplotlib as mpl"
   ]
  },
  {
   "cell_type": "markdown",
   "metadata": {
    "id": "_IKjbu_cYBHS"
   },
   "source": [
    "Making a simple plot"
   ]
  },
  {
   "cell_type": "code",
   "execution_count": null,
   "metadata": {
    "colab": {
     "base_uri": "https://localhost:8080/",
     "height": 391
    },
    "id": "EYzx_VEcYA0T",
    "outputId": "97981e9a-36ad-4aef-e131-cfc60dfc0f4a"
   },
   "outputs": [],
   "source": [
    "x = np.linspace(0, 2, 100)\n",
    "y = x**2\n",
    "fig = plt.figure(figsize=(8,4)) \n",
    "ax = plt.gca()\n",
    "ax.plot(x,y)"
   ]
  },
  {
   "cell_type": "markdown",
   "metadata": {
    "id": "QReGcjpkYaxs"
   },
   "source": [
    "Adding more lines to the plot"
   ]
  },
  {
   "cell_type": "code",
   "execution_count": null,
   "metadata": {
    "colab": {
     "base_uri": "https://localhost:8080/"
    },
    "id": "-fTAJoTeYZy1",
    "outputId": "ef051b19-eec7-4c70-e070-caf24f058e3a"
   },
   "outputs": [],
   "source": [
    "ax.plot(x, x)  \n",
    "ax.plot(x, x**0.5)  "
   ]
  },
  {
   "cell_type": "markdown",
   "metadata": {
    "id": "QUIUfSYeY2ko"
   },
   "source": [
    "Labeling the lines"
   ]
  },
  {
   "cell_type": "code",
   "execution_count": null,
   "metadata": {
    "id": "yBHSa9FaY1uc"
   },
   "outputs": [],
   "source": [
    "ax.lines[0].set_label('quadratic')\n",
    "ax.lines[1].set_label('linear')\n",
    "ax.lines[2].set_label('square root')"
   ]
  },
  {
   "cell_type": "markdown",
   "metadata": {},
   "source": [
    "Add a legend"
   ]
  },
  {
   "cell_type": "code",
   "execution_count": null,
   "metadata": {
    "colab": {
     "base_uri": "https://localhost:8080/",
     "height": 163
    },
    "id": "U-LekcACZICL",
    "outputId": "54b2a02a-226c-48f9-bbf2-7652f3131f06"
   },
   "outputs": [],
   "source": [
    "ax.legend()"
   ]
  },
  {
   "cell_type": "markdown",
   "metadata": {},
   "source": [
    "Adding labels"
   ]
  },
  {
   "cell_type": "code",
   "execution_count": null,
   "metadata": {},
   "outputs": [],
   "source": [
    "ax.set(\n",
    "    xlabel='x value',\n",
    "    ylabel='y value',\n",
    "    title='Line example')"
   ]
  },
  {
   "cell_type": "markdown",
   "metadata": {},
   "source": [
    "Changing the line colors"
   ]
  },
  {
   "cell_type": "code",
   "execution_count": null,
   "metadata": {},
   "outputs": [],
   "source": [
    "from colorsys import hsv_to_rgb\n",
    "\n",
    "ax.lines[0].set_color('red')\n",
    "ax.lines[1].set_color((0.1,0.7,0.05))\n",
    "ax.lines[2].set_color(hsv_to_rgb(44/360,0.62,0.95))"
   ]
  },
  {
   "cell_type": "markdown",
   "metadata": {},
   "source": [
    "Adding dashes to the lines"
   ]
  },
  {
   "cell_type": "code",
   "execution_count": null,
   "metadata": {},
   "outputs": [],
   "source": [
    "ax.lines[0].set_dashes([4,4])\n",
    "ax.lines[1].set_dashes([2,2,4,2])"
   ]
  },
  {
   "cell_type": "markdown",
   "metadata": {},
   "source": [
    "Increase the line thickness"
   ]
  },
  {
   "cell_type": "code",
   "execution_count": null,
   "metadata": {},
   "outputs": [],
   "source": [
    "for line in ax.lines:\n",
    "    line.set_linewidth(2)"
   ]
  },
  {
   "cell_type": "markdown",
   "metadata": {},
   "source": [
    "Restoring the legend"
   ]
  },
  {
   "cell_type": "code",
   "execution_count": null,
   "metadata": {},
   "outputs": [],
   "source": [
    "ax.legend(framealpha=0,\n",
    "          loc='upper left')"
   ]
  },
  {
   "cell_type": "markdown",
   "metadata": {},
   "source": [
    "Set the axis limits"
   ]
  },
  {
   "cell_type": "code",
   "execution_count": null,
   "metadata": {},
   "outputs": [],
   "source": [
    "ax.set(xlim=(0,2),\n",
    "       ylim=(0,4))"
   ]
  },
  {
   "cell_type": "markdown",
   "metadata": {},
   "source": [
    "Set the axis ticks"
   ]
  },
  {
   "cell_type": "code",
   "execution_count": null,
   "metadata": {
    "scrolled": true
   },
   "outputs": [],
   "source": [
    "ax.set(xticks=np.linspace(0, 2, 3),\n",
    "       yticks=np.linspace(0, 4, 5))"
   ]
  },
  {
   "cell_type": "markdown",
   "metadata": {},
   "source": [
    "Removing the box"
   ]
  },
  {
   "cell_type": "code",
   "execution_count": null,
   "metadata": {},
   "outputs": [],
   "source": [
    "ax.spines[\"right\"].set_visible(False) \n",
    "ax.spines[\"top\"].set_visible(False) "
   ]
  },
  {
   "cell_type": "markdown",
   "metadata": {},
   "source": [
    "Changing the fonts"
   ]
  },
  {
   "cell_type": "code",
   "execution_count": null,
   "metadata": {},
   "outputs": [],
   "source": [
    "ax.title.set_fontsize(20)\n",
    "ax.xaxis.label.set_fontsize(16)\n",
    "ax.yaxis.label.set_fontsize(16)"
   ]
  },
  {
   "cell_type": "markdown",
   "metadata": {},
   "source": [
    "Scaling the figure to include the larger labels"
   ]
  },
  {
   "cell_type": "code",
   "execution_count": null,
   "metadata": {},
   "outputs": [],
   "source": [
    "fig.tight_layout()"
   ]
  },
  {
   "cell_type": "markdown",
   "metadata": {},
   "source": [
    "Background patches"
   ]
  },
  {
   "cell_type": "code",
   "execution_count": null,
   "metadata": {},
   "outputs": [],
   "source": [
    "ax.patch.set_color([0.9,0.9,0.9])\n",
    "fig.patch.set_color([0.8,0.8,0.8])"
   ]
  },
  {
   "cell_type": "markdown",
   "metadata": {},
   "source": [
    "Removing the background"
   ]
  },
  {
   "cell_type": "code",
   "execution_count": null,
   "metadata": {},
   "outputs": [],
   "source": [
    "ax.patch.set_visible(False)\n",
    "fig.patch.set_visible(False)"
   ]
  },
  {
   "cell_type": "markdown",
   "metadata": {},
   "source": [
    "Exporting the figure"
   ]
  },
  {
   "cell_type": "code",
   "execution_count": null,
   "metadata": {},
   "outputs": [],
   "source": [
    "plt.savefig('line_example.png', \n",
    "            dpi=600, \n",
    "            facecolor='none', \n",
    "            edgecolor='none', \n",
    "            pad_inches=0.1)"
   ]
  },
  {
   "cell_type": "markdown",
   "metadata": {
    "id": "lEkcvajpVT3b"
   },
   "source": [
    "## Plotting directly from a dataframe"
   ]
  },
  {
   "cell_type": "code",
   "execution_count": null,
   "metadata": {
    "id": "KQ_u1d0HVSiJ"
   },
   "outputs": [],
   "source": [
    "df = pd.DataFrame({\n",
    "    'apples': [3e6, 2e6, 0, 1e6], \n",
    "    'oranges': [6e6, 1e6, 3e6, 3e6], \n",
    "    'bananas': [0, 3e6, 7e6, 2e6]},index=['Monday','Tuesday','Wednesday','Thursday'])"
   ]
  },
  {
   "cell_type": "code",
   "execution_count": null,
   "metadata": {
    "colab": {
     "base_uri": "https://localhost:8080/",
     "height": 282
    },
    "id": "zjtR8yfDVeVk",
    "outputId": "9adbd074-64a1-4f13-980e-b9c2029b772c"
   },
   "outputs": [],
   "source": [
    "df.plot()"
   ]
  },
  {
   "cell_type": "markdown",
   "metadata": {},
   "source": [
    "With more markup"
   ]
  },
  {
   "cell_type": "code",
   "execution_count": null,
   "metadata": {
    "colab": {
     "base_uri": "https://localhost:8080/",
     "height": 305
    },
    "id": "1_OU8kEFwGlE",
    "outputId": "2dccdf87-2a27-494c-efae-a9837c72a52a"
   },
   "outputs": [],
   "source": [
    "ax = df.plot(y=['apples','oranges'], \n",
    "             kind='bar', \n",
    "             subplots=True, \n",
    "             sharey=True, \n",
    "             legend=False, \n",
    "             color=[hsv_to_rgb(110/360,0.55,0.86), \n",
    "                    hsv_to_rgb(35/360,0.80,0.96)])"
   ]
  },
  {
   "cell_type": "markdown",
   "metadata": {},
   "source": [
    "Formatting the y-label"
   ]
  },
  {
   "cell_type": "code",
   "execution_count": null,
   "metadata": {},
   "outputs": [],
   "source": [
    "ax[0].yaxis.set_major_formatter(mpl.ticker.EngFormatter(unit='€', places=0))"
   ]
  },
  {
   "cell_type": "markdown",
   "metadata": {},
   "source": [
    "Resizing the figure to show the full labels"
   ]
  },
  {
   "cell_type": "code",
   "execution_count": null,
   "metadata": {},
   "outputs": [],
   "source": [
    "fig = plt.gcf()\n",
    "fig.tight_layout()"
   ]
  },
  {
   "cell_type": "markdown",
   "metadata": {},
   "source": [
    "## Making a graph with uncertainty bounds"
   ]
  },
  {
   "cell_type": "code",
   "execution_count": null,
   "metadata": {
    "id": "cdbr64b-Pwlh",
    "outputId": "8e5ee98a-860a-4510-a343-c06660636006"
   },
   "outputs": [],
   "source": [
    "import datetime as dtime\n",
    "\n",
    "y = np.linspace(0, 2, 101)\n",
    "t = pd.Series([dtime.datetime(2020,1,1) + dtime.timedelta(days=i*60) for i in y])\n",
    "\n",
    "fig, ax = plt.subplots() \n",
    "ax.plot(t, \n",
    "        y, \n",
    "        label='median', \n",
    "        linewidth=3, \n",
    "        color=hsv_to_rgb(3/360,0.55,0.86))\n",
    "ax.fill_between(t, \n",
    "                0.85*y, \n",
    "                1.2*y, \n",
    "                color=hsv_to_rgb(3/360,0.55,0.86), \n",
    "                alpha= 0.1, \n",
    "                label='40-60%')\n",
    "ax.fill_between(t, \n",
    "                0.75*y, \n",
    "                1.4*y, \n",
    "                color=hsv_to_rgb(3/360,0.55,0.86), \n",
    "                alpha= 0.1, \n",
    "                label='25-75%')\n",
    "ax.fill_between(t, \n",
    "                0.5*y, \n",
    "                1.8*y, \n",
    "                    color=hsv_to_rgb(3/360,0.55,0.86), \n",
    "                alpha= 0.1, \n",
    "                label='10-90%')"
   ]
  },
  {
   "cell_type": "markdown",
   "metadata": {},
   "source": [
    "Change the layout"
   ]
  },
  {
   "cell_type": "code",
   "execution_count": null,
   "metadata": {},
   "outputs": [],
   "source": [
    "ax.set(\n",
    "    ylabel='y value',\n",
    "    title='Line with bounds example',\n",
    "    xlim=(dtime.datetime(2020,1,1), dtime.datetime(2020,5,1)),\n",
    "    ylim=(0,3),\n",
    "    yticks=np.linspace(0, 3, 4))\n",
    "\n",
    "ax.spines[\"right\"].set_visible(False) \n",
    "ax.spines[\"top\"].set_visible(False) \n",
    "\n",
    "legend = ax.legend(loc='upper left', framealpha=0.0) "
   ]
  },
  {
   "cell_type": "markdown",
   "metadata": {},
   "source": [
    "fix the legend"
   ]
  },
  {
   "cell_type": "code",
   "execution_count": null,
   "metadata": {},
   "outputs": [],
   "source": [
    "for idx, legend_entry in enumerate(legend.get_patches()):\n",
    "    legend_entry.set_alpha(0.1 * (3-idx))"
   ]
  },
  {
   "cell_type": "markdown",
   "metadata": {},
   "source": [
    "format the dates"
   ]
  },
  {
   "cell_type": "code",
   "execution_count": null,
   "metadata": {},
   "outputs": [],
   "source": [
    "ax.xaxis.set_major_locator(mpl.dates.MonthLocator(interval=1))"
   ]
  },
  {
   "cell_type": "markdown",
   "metadata": {},
   "source": [
    "## Scatter plot"
   ]
  },
  {
   "cell_type": "code",
   "execution_count": null,
   "metadata": {
    "id": "UeVJ7RtuPwli",
    "outputId": "a08c5d08-db63-43e1-9745-fe232439f0c1",
    "scrolled": false
   },
   "outputs": [],
   "source": [
    "from sklearn.datasets import load_boston\n",
    "\n",
    "data = load_boston()\n",
    "df = pd.DataFrame(data['data'], columns=data['feature_names'])\n",
    "df.head()"
   ]
  },
  {
   "cell_type": "markdown",
   "metadata": {},
   "source": [
    "Plot the number of rooms versus the distances from the employment centres"
   ]
  },
  {
   "cell_type": "code",
   "execution_count": null,
   "metadata": {},
   "outputs": [],
   "source": [
    "fig, ax = plt.subplots()\n",
    "ax.plot(df['DIS'], \n",
    "        df['RM'], \n",
    "        'o', \n",
    "        markersize=6, \n",
    "        label='Neighbourhoods', \n",
    "        color='dimgray', \n",
    "        alpha=0.2)"
   ]
  },
  {
   "cell_type": "markdown",
   "metadata": {},
   "source": [
    "Highlight a certain point"
   ]
  },
  {
   "cell_type": "code",
   "execution_count": null,
   "metadata": {},
   "outputs": [],
   "source": [
    "ax.plot(df['DIS'][88], \n",
    "        df['RM'][88], \n",
    "        'o', \n",
    "        markersize=8,  \n",
    "        label='Interesting neighbourhood', \n",
    "        color=hsv_to_rgb(3/360,0.55,0.86)) "
   ]
  },
  {
   "cell_type": "markdown",
   "metadata": {},
   "source": [
    "Do some layout changes"
   ]
  },
  {
   "cell_type": "code",
   "execution_count": null,
   "metadata": {},
   "outputs": [],
   "source": [
    "ax.set(\n",
    "    xlabel='weighted distances to five Boston employment centres',\n",
    "    ylabel='average number of rooms per dwelling')\n",
    "\n",
    "ax.yaxis.set_major_locator(plt.MaxNLocator(5))\n",
    "ax.xaxis.set_major_locator(plt.MaxNLocator(5))\n",
    "\n",
    "ax.set_title(label='Boston housing prices dataset', pad=20)\n",
    "\n",
    "ax.spines[\"right\"].set_visible(False) \n",
    "ax.spines[\"top\"].set_visible(False) \n",
    "\n",
    "legend = ax.legend(loc='lower center', framealpha=0.9)"
   ]
  },
  {
   "cell_type": "markdown",
   "metadata": {},
   "source": [
    "## Horizontal bar chart"
   ]
  },
  {
   "cell_type": "code",
   "execution_count": null,
   "metadata": {},
   "outputs": [],
   "source": [
    "x = np.array([38, 48, 56, 23, 16, 27, 11])\n",
    "y = np.array(['Python','C++','Java','C','R','Rust','Julia'])"
   ]
  },
  {
   "cell_type": "markdown",
   "metadata": {},
   "source": [
    "Generate a sorting vector and a list of colors"
   ]
  },
  {
   "cell_type": "code",
   "execution_count": null,
   "metadata": {},
   "outputs": [],
   "source": [
    "x_ind = np.argsort(x)\n",
    "color_list = ['silver' for i in y]\n",
    "color_list[np.where(y[x_ind]=='R')[0][0]] = hsv_to_rgb(3/360,0.55,0.85)"
   ]
  },
  {
   "cell_type": "markdown",
   "metadata": {},
   "source": [
    "Plot the bar chart"
   ]
  },
  {
   "cell_type": "code",
   "execution_count": null,
   "metadata": {
    "id": "btgL_BHEPwlj",
    "outputId": "8f9a3ccd-51d9-4061-d90a-a66bad828c7b"
   },
   "outputs": [],
   "source": [
    "fig, ax = plt.subplots()  \n",
    "bars = ax.barh(y[x_ind], \n",
    "               x[x_ind], \n",
    "               linewidth=0, \n",
    "               color=color_list)\n",
    "ax.set_title(label='Programming languages')"
   ]
  },
  {
   "cell_type": "markdown",
   "metadata": {},
   "source": [
    "Removing the box around the plot"
   ]
  },
  {
   "cell_type": "code",
   "execution_count": null,
   "metadata": {},
   "outputs": [],
   "source": [
    "ax.spines[\"right\"].set_visible(False) \n",
    "ax.spines[\"top\"].set_visible(False) \n",
    "ax.spines[\"bottom\"].set_visible(False) "
   ]
  },
  {
   "cell_type": "markdown",
   "metadata": {},
   "source": [
    "Removing all the thicks, but keeping the labels"
   ]
  },
  {
   "cell_type": "code",
   "execution_count": null,
   "metadata": {},
   "outputs": [],
   "source": [
    "ax.tick_params(top=False, \n",
    "               bottom=False, \n",
    "               left=False, \n",
    "               right=False, \n",
    "               labelleft=True, \n",
    "               labelbottom=False)"
   ]
  },
  {
   "cell_type": "markdown",
   "metadata": {},
   "source": [
    "Adding the value to the bars"
   ]
  },
  {
   "cell_type": "code",
   "execution_count": null,
   "metadata": {},
   "outputs": [],
   "source": [
    "for bar in bars:\n",
    "        text_x = bar.get_width() - ax.get_xlim()[1] * 0.06\n",
    "        text_y = bar.get_y() + bar.get_height() / 2\n",
    "        ax.text(text_x, \n",
    "                text_y, \n",
    "                bar.get_width(), \n",
    "                va='center', \n",
    "                color='white', \n",
    "                fontsize=12)"
   ]
  },
  {
   "cell_type": "markdown",
   "metadata": {},
   "source": [
    "## Making a waterfall chart"
   ]
  },
  {
   "cell_type": "code",
   "execution_count": null,
   "metadata": {
    "id": "uWLSnY-oPwlk",
    "outputId": "f2d49272-72e5-45f4-c5e2-36c4f7305145",
    "tags": []
   },
   "outputs": [],
   "source": [
    "x_val = np.array([405, -195, -260, -190, 360, 120]).astype(np.float)\n",
    "\n",
    "x0 = x_val.copy()\n",
    "x0[1:5] = np.nan\n",
    "\n",
    "x1 = np.cumsum(x_val)\n",
    "\n",
    "x2 = -1*(x_val)\n",
    "x2[[0,5]] = np.nan\n",
    "\n",
    "y = np.array(['EBITDA','Amortization','Depreciation','Interest','Taxes','Profit'])"
   ]
  },
  {
   "cell_type": "markdown",
   "metadata": {},
   "source": [
    "Plotting the bar charts"
   ]
  },
  {
   "cell_type": "code",
   "execution_count": null,
   "metadata": {},
   "outputs": [],
   "source": [
    "fig, ax = plt.subplots(constrained_layout=True)  \n",
    "\n",
    "ax.bar(y, \n",
    "       x0, \n",
    "       color='silver')\n",
    "\n",
    "bars = ax.bar(y, \n",
    "              x2, \n",
    "              bottom=x1, \n",
    "              color=['k',\n",
    "                     hsv_to_rgb(3/360,0.55,0.85),\n",
    "                     hsv_to_rgb(3/360,0.55,0.85),\n",
    "                     hsv_to_rgb(3/360,0.55,0.85),\n",
    "                     hsv_to_rgb(116/360,0.35,0.70),\n",
    "                     'k'])"
   ]
  },
  {
   "cell_type": "markdown",
   "metadata": {},
   "source": [
    "Set layout"
   ]
  },
  {
   "cell_type": "code",
   "execution_count": null,
   "metadata": {},
   "outputs": [],
   "source": [
    "ax.set_title(label='EBITDA to profit')\n",
    "\n",
    "ax.set_yticks(ticks=[])\n",
    "ax.set_ylim([-150, 450])\n",
    "\n",
    "ax.spines[\"right\"].set_visible(False) \n",
    "ax.spines[\"top\"].set_visible(False) \n",
    "ax.spines[\"left\"].set_visible(False)\n",
    "ax.spines['bottom'].set_visible(False)"
   ]
  },
  {
   "cell_type": "markdown",
   "metadata": {},
   "source": [
    "Rotate the labels"
   ]
  },
  {
   "cell_type": "code",
   "execution_count": null,
   "metadata": {},
   "outputs": [],
   "source": [
    "plt.tick_params(axis='x', \n",
    "                which='both', \n",
    "                bottom=False, \n",
    "                top=False, \n",
    "                labelbottom=True, \n",
    "                rotation=45)"
   ]
  },
  {
   "cell_type": "markdown",
   "metadata": {},
   "source": [
    "Adding the labels to the bars"
   ]
  },
  {
   "cell_type": "code",
   "execution_count": null,
   "metadata": {},
   "outputs": [],
   "source": [
    "x_pos = x_val.copy()\n",
    "x_pos[1:5] = x1[0:4]\n",
    "x_pos[4] = x1[4]\n",
    "\n",
    "for index, val in enumerate(x_val):\n",
    "    ax.annotate(f'{int(val)}',\n",
    "                (index,x_pos[index]+np.max(x_pos)*0.02),\n",
    "                ha='center')"
   ]
  },
  {
   "cell_type": "markdown",
   "metadata": {},
   "source": [
    "Adding a horizontal line at the origin"
   ]
  },
  {
   "cell_type": "code",
   "execution_count": null,
   "metadata": {},
   "outputs": [],
   "source": [
    "ax.axhline(0, color='grey', lw=0.5) "
   ]
  },
  {
   "cell_type": "markdown",
   "metadata": {},
   "source": [
    "Move the line to the back"
   ]
  },
  {
   "cell_type": "code",
   "execution_count": null,
   "metadata": {},
   "outputs": [],
   "source": [
    "ax.lines[0].set_zorder(0)"
   ]
  },
  {
   "cell_type": "markdown",
   "metadata": {},
   "source": [
    "## Subplot histograms"
   ]
  },
  {
   "cell_type": "code",
   "execution_count": null,
   "metadata": {
    "id": "HcVVVrq_Pwll",
    "outputId": "047f0968-f18d-4032-fc14-373aa23ffd24",
    "tags": []
   },
   "outputs": [],
   "source": [
    "np.random.seed = 22\n",
    "\n",
    "x1 = np.random.randn(500000)\n",
    "x2 = 2*np.random.randn(500000)\n",
    "x3 = 1.7*np.random.randn(500000)\n",
    "x4 = 0.75*np.random.randn(500000)\n",
    "x5 = 1.2*np.random.randn(500000)\n",
    "x6 = 1.45*np.random.randn(500000)\n",
    "x = [x1,x2,x3,x4,x5,x6]"
   ]
  },
  {
   "cell_type": "markdown",
   "metadata": {},
   "source": [
    "Setup the subplots"
   ]
  },
  {
   "cell_type": "code",
   "execution_count": null,
   "metadata": {},
   "outputs": [],
   "source": [
    "fig, axes = plt.subplots(ncols=3, \n",
    "                         nrows=2, \n",
    "                         constrained_layout=False, \n",
    "                         sharex=True, \n",
    "                         sharey=True)\n",
    "flat_axes = [ax for ax_list in axes for ax in ax_list]\n",
    "for idx, ax in enumerate(flat_axes):\n",
    "    bins = ax.hist(x[idx], \n",
    "                   color=plt.cm.bone(np.linspace(0.1,0.9,len(flat_axes)+1)[idx]),\n",
    "                   bins=100, \n",
    "                   density=True, \n",
    "                   label='data A', \n",
    "                   alpha=0.2) \n",
    "    ax.hist(x[idx], \n",
    "            color=plt.cm.bone(np.linspace(0.1,0.9,len(flat_axes)+1)[idx]),\n",
    "            bins=bins[1], \n",
    "            density=True, \n",
    "            label='data A', \n",
    "            alpha=1, \n",
    "            histtype=u'step') \n"
   ]
  },
  {
   "cell_type": "markdown",
   "metadata": {},
   "source": [
    "Set the titles of each of the histograms"
   ]
  },
  {
   "cell_type": "code",
   "execution_count": null,
   "metadata": {},
   "outputs": [],
   "source": [
    "axes[0,0].set_title(label='Data A')\n",
    "axes[0,1].set_title(label='Data B')\n",
    "axes[0,2].set_title(label='Data C')\n",
    "axes[1,0].set_title(label='Data D')\n",
    "axes[1,1].set_title(label='Data E')\n",
    "axes[1,2].set_title(label='Data F')"
   ]
  },
  {
   "cell_type": "markdown",
   "metadata": {},
   "source": [
    "Adjust the layout of the rest of the figure"
   ]
  },
  {
   "cell_type": "code",
   "execution_count": null,
   "metadata": {},
   "outputs": [],
   "source": [
    "for ax in flat_axes:\n",
    "    ax.set(\n",
    "        xlim=(-6, 6),\n",
    "        xticks=np.linspace(-6, 6, 5),\n",
    "        yticks=[])\n",
    "    ax.spines[\"right\"].set_visible(False) \n",
    "    ax.spines[\"left\"].set_visible(False) \n",
    "    ax.spines[\"top\"].set_visible(False) "
   ]
  },
  {
   "cell_type": "markdown",
   "metadata": {},
   "source": [
    "Set a title for the figure"
   ]
  },
  {
   "cell_type": "code",
   "execution_count": null,
   "metadata": {},
   "outputs": [],
   "source": [
    "fig.suptitle(\"Some normal distributions\", fontsize=14)"
   ]
  },
  {
   "cell_type": "markdown",
   "metadata": {},
   "source": [
    "Fixed the figure size"
   ]
  },
  {
   "cell_type": "code",
   "execution_count": null,
   "metadata": {},
   "outputs": [],
   "source": [
    " fig.subplots_adjust(right=0.8)"
   ]
  },
  {
   "cell_type": "markdown",
   "metadata": {},
   "source": [
    "Add a legend"
   ]
  },
  {
   "cell_type": "code",
   "execution_count": null,
   "metadata": {},
   "outputs": [],
   "source": [
    "colors = [plt.cm.bone(np.linspace(0.1,0.9,len(flat_axes)+1)[idx]) for idx in range(len(flat_axes))]\n",
    "labels = ['Data ' + chr(65 + idx) for idx in range(len(flat_axes))]\n",
    "\n",
    "handles = [plt.Rectangle((0,0),1,1, color = color_label, alpha=0.3) for color_label in colors]\n",
    "fig.legend(handles, labels, loc='center right', bbox_to_anchor=(1 , 0.5), ncol=1, prop={'size': 10})"
   ]
  },
  {
   "cell_type": "markdown",
   "metadata": {},
   "source": [
    "## Interactive plots with Matplotlib"
   ]
  },
  {
   "cell_type": "code",
   "execution_count": null,
   "metadata": {},
   "outputs": [],
   "source": [
    "import ipywidgets as widgets"
   ]
  },
  {
   "cell_type": "markdown",
   "metadata": {},
   "source": [
    "### Sampling data for a histogram"
   ]
  },
  {
   "cell_type": "markdown",
   "metadata": {},
   "source": [
    "Generate the buttons and the color pickers"
   ]
  },
  {
   "cell_type": "code",
   "execution_count": null,
   "metadata": {},
   "outputs": [],
   "source": [
    "button_left = widgets.Button(\n",
    "    description='New distribution',\n",
    "    disabled=False,\n",
    "    button_style='', \n",
    "    value=0,\n",
    "    tooltip='Generate a new distribution',\n",
    "    layout=widgets.Layout(width='100pt', grid_area='button_left'))\n",
    "\n",
    "button_right = widgets.Button(\n",
    "    description='New distribution',\n",
    "    disabled=False,\n",
    "    button_style='',\n",
    "    value=1,\n",
    "    tooltip='Generate a new distribution',\n",
    "    layout=widgets.Layout(width='100pt', grid_area='button_right'))\n",
    "\n",
    "color_left = widgets.ColorPicker(\n",
    "    concise=False,\n",
    "    description='',\n",
    "    value='blue',\n",
    "    disabled=False,\n",
    "    tooltip='Pick a color',\n",
    "    layout=widgets.Layout(width='100pt', grid_area='color_left'))\n",
    "\n",
    "color_right = widgets.ColorPicker(\n",
    "    concise=False,\n",
    "    description='',\n",
    "    value='red',\n",
    "    disabled=False,\n",
    "    tooltip='Pick a color',\n",
    "    layout=widgets.Layout(width='100pt', grid_area='color_right'))\n",
    "\n",
    "color_pickers = [color_left, color_right]\n",
    "\n",
    "gridbox = widgets.GridBox(\n",
    "        children=[button_left, button_right, color_left, color_right],\n",
    "        layout=widgets.Layout(\n",
    "            justify_items='center',\n",
    "            width='680pt',\n",
    "            grid_template_rows='auto',\n",
    "            grid_template_columns='50% 50%',\n",
    "            grid_template_areas=\"\"\"\n",
    "            'button_left button_right'            \n",
    "            'color_left color_right'\n",
    "            \"\"\"))"
   ]
  },
  {
   "cell_type": "markdown",
   "metadata": {},
   "source": [
    "Generate the inital plot of the histograms from before"
   ]
  },
  {
   "cell_type": "code",
   "execution_count": null,
   "metadata": {},
   "outputs": [],
   "source": [
    "fig, axes = plt.subplots(ncols=2, \n",
    "                         nrows=1, \n",
    "                         constrained_layout=True, \n",
    "                         sharex=True, \n",
    "                         sharey=True, \n",
    "                         figsize=(9,3))\n",
    "\n",
    "np.random.seed = 22\n",
    "x1 = np.random.randn(1000)\n",
    "x2 = np.random.randn(1000)\n",
    "x = [x1,x2]\n",
    "\n",
    "for idx, ax in enumerate(axes):\n",
    "    bins = ax.hist(x[idx], \n",
    "                   color=color_pickers[idx].value, \n",
    "                   bins=100, \n",
    "                   density=True, \n",
    "                   alpha=0.2) \n",
    "    ax.hist(x[idx], \n",
    "            color=color_pickers[idx].value, \n",
    "            bins=bins[1], \n",
    "            density=True, \n",
    "            alpha=1, \n",
    "            histtype=u'step') \n",
    "\n",
    "for ax in axes:\n",
    "    ax.set(\n",
    "        xlim=(-6, 6),\n",
    "        xticks=np.linspace(-6, 6, 5),\n",
    "        yticks=[])\n",
    "    ax.spines[\"right\"].set_visible(False) \n",
    "    ax.spines[\"left\"].set_visible(False) \n",
    "    ax.spines[\"top\"].set_visible(False) "
   ]
  },
  {
   "cell_type": "markdown",
   "metadata": {},
   "source": [
    "Show the buttons"
   ]
  },
  {
   "cell_type": "code",
   "execution_count": null,
   "metadata": {},
   "outputs": [],
   "source": [
    "gridbox"
   ]
  },
  {
   "cell_type": "markdown",
   "metadata": {},
   "source": [
    "Add a callback which redraws the graphs"
   ]
  },
  {
   "cell_type": "code",
   "execution_count": null,
   "metadata": {},
   "outputs": [],
   "source": [
    "def generate_new_hist(b):\n",
    "    global x1\n",
    "    global x2\n",
    "    if b.layout.grid_area == 'button_left' : \n",
    "        ind = 0\n",
    "        x1 = np.random.randn(1000)\n",
    "    elif b.layout.grid_area == 'button_right' : \n",
    "        ind =1\n",
    "        x2 = np.random.randn(1000)\n",
    "    x = [x1,x2]\n",
    "    axes[ind].clear()\n",
    "    bins = axes[ind].hist(x[ind], \n",
    "                   color=color_pickers[ind].value, \n",
    "                   bins=100, \n",
    "                   density=True, \n",
    "                   alpha=0.2) \n",
    "    axes[ind].hist(x[ind], \n",
    "            color=color_pickers[ind].value, \n",
    "            bins=bins[1], \n",
    "            density=True, \n",
    "            alpha=1, \n",
    "            histtype=u'step') \n",
    "    \n",
    "    axes[ind].set(\n",
    "        xlim=(-6, 6),\n",
    "        xticks=np.linspace(-6, 6, 5),\n",
    "        yticks=[])\n",
    "    axes[ind].spines[\"right\"].set_visible(False) \n",
    "    axes[ind].spines[\"left\"].set_visible(False) \n",
    "    axes[ind].spines[\"top\"].set_visible(False) \n",
    "\n",
    "button_left.on_click(generate_new_hist)\n",
    "button_right.on_click(generate_new_hist)"
   ]
  },
  {
   "cell_type": "markdown",
   "metadata": {},
   "source": [
    "### Adjusting a sine wave"
   ]
  },
  {
   "cell_type": "code",
   "execution_count": null,
   "metadata": {},
   "outputs": [],
   "source": [
    "fig, ax = plt.subplots(figsize=(8, 4))\n",
    "ax.set_ylim([-4, 4])\n",
    "ax.grid(False)\n",
    "ax.spines[\"right\"].set_visible(False) \n",
    "ax.spines[\"top\"].set_visible(False) \n",
    "ax.spines[\"left\"].set_visible(False) \n",
    "ax.spines[\"bottom\"].set_visible(False) \n",
    "ax.set(yticks=[],\n",
    "       xticks=[])\n",
    "plt.show()\n",
    "ax.axvline(np.pi, color=[0.7,0.7,0.7])"
   ]
  },
  {
   "cell_type": "code",
   "execution_count": null,
   "metadata": {},
   "outputs": [],
   "source": [
    "@widgets.interact(length=(0.1, 10, 0.1), \n",
    "                  amp=(0.1, 4, .1), \n",
    "                  shift=(0, 2*np.pi, 0.01*np.pi))\n",
    "\n",
    "def update(length = 10, amp=1, shift=0):\n",
    "    if len(ax.lines) > 1:\n",
    "        del ax.lines[1]\n",
    "    ax.plot(np.linspace(0, 2 * np.pi, 1000), \n",
    "            amp*np.sin((10/length) * (np.linspace(0, 2 * np.pi, 1000)-shift)), \n",
    "            color='blue')"
   ]
  },
  {
   "cell_type": "markdown",
   "metadata": {
    "id": "XDu4qoCWcXlF"
   },
   "source": [
    "## Setting the parameters for all the plots"
   ]
  },
  {
   "cell_type": "code",
   "execution_count": null,
   "metadata": {},
   "outputs": [],
   "source": [
    "df.plot(x='AGE', y=['RM','NOX','DIS'], marker='o', lineWidth=0, alpha=0.2)"
   ]
  },
  {
   "cell_type": "markdown",
   "metadata": {},
   "source": [
    "Setting the font and colors according to the DNB housestyle"
   ]
  },
  {
   "cell_type": "code",
   "execution_count": null,
   "metadata": {
    "id": "00ScgtXgPwld"
   },
   "outputs": [],
   "source": [
    "DNB_black = [43/255, 50/255, 60/255]\n",
    "\n",
    "mpl.rcParams['text.color'] = DNB_black\n",
    "mpl.rcParams['xtick.color'] = DNB_black\n",
    "mpl.rcParams['ytick.color'] = DNB_black\n",
    "mpl.rcParams['axes.labelcolor'] = DNB_black\n",
    "mpl.rcParams['axes.edgecolor'] = DNB_black\n",
    "mpl.rcParams['font.family'] = 'sans-serif'\n",
    "mpl.rcParams['font.sans-serif'] = ['Verdana']\n",
    "mpl.rcParams['axes.spines.top'] = False\n",
    "mpl.rcParams['axes.spines.right'] = False\n",
    "mpl.rcParams['figure.autolayout'] = True\n",
    "mpl.rcParams['legend.frameon'] = False\n",
    "\n",
    "from cycler import cycler\n",
    "mpl.rcParams['axes.prop_cycle'] = cycler(color=[[254/255, 203/255 ,0/255], \n",
    "                                                [89/255, 71/255 ,70/255], \n",
    "                                                [155/255, 144/255 ,0/255], \n",
    "                                                [22/255, 34/255 ,87/255], \n",
    "                                                [184/255, 69/255 ,14/255]])"
   ]
  },
  {
   "cell_type": "code",
   "execution_count": null,
   "metadata": {},
   "outputs": [],
   "source": [
    "df.plot(x='AGE', y=['RM','NOX','DIS'], marker='o', lineWidth=0, alpha=0.2)"
   ]
  },
  {
   "cell_type": "markdown",
   "metadata": {},
   "source": [
    "Get a list of all the options"
   ]
  },
  {
   "cell_type": "code",
   "execution_count": null,
   "metadata": {
    "id": "HAhsjkgPPwln",
    "outputId": "d7223f24-923b-4dfe-93d3-3ef0bb27a5ce"
   },
   "outputs": [],
   "source": [
    "mpl.rcParams.keys() "
   ]
  },
  {
   "cell_type": "markdown",
   "metadata": {
    "id": "PI-Vbc_hPwlr",
    "outputId": "721e52b0-441e-46ff-b20b-c570c6804a67"
   },
   "source": [
    "Adjustments can also be made in a *matplotlibrc* file\n",
    "An example of the file can be found in: \n",
    "\n",
    "*C:\\Users\\{user_name}\\AppData\\Local\\Continuum\\anaconda3\\pkgs\\matplotlib-3.1.1-py37hc8f65d3_0\\Lib\\site-packages\\matplotlib\\mpl-data\\*"
   ]
  }
 ],
 "metadata": {
  "colab": {
   "collapsed_sections": [],
   "name": "usage.ipynb",
   "provenance": []
  },
  "kernelspec": {
   "display_name": "Python 3",
   "language": "python",
   "name": "python3"
  },
  "language_info": {
   "codemirror_mode": {
    "name": "ipython",
    "version": 3
   },
   "file_extension": ".py",
   "mimetype": "text/x-python",
   "name": "python",
   "nbconvert_exporter": "python",
   "pygments_lexer": "ipython3",
   "version": "3.7.4"
  }
 },
 "nbformat": 4,
 "nbformat_minor": 1
}
